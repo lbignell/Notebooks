{
 "metadata": {
  "name": "",
  "signature": "sha256:f51851e935df9f1aec5b36b4b92c3a2e771fdb6f5415e5d5607ec55cdba29db8"
 },
 "nbformat": 3,
 "nbformat_minor": 0,
 "worksheets": [
  {
   "cells": [
    {
     "cell_type": "markdown",
     "metadata": {},
     "source": [
      "### Event rates in the CLYC detector, in SUPL."
     ]
    },
    {
     "cell_type": "code",
     "collapsed": false,
     "input": [
      "from scipy import constants\n",
      "import numpy as np"
     ],
     "language": "python",
     "metadata": {},
     "outputs": [],
     "prompt_number": 53
    },
    {
     "cell_type": "code",
     "collapsed": false,
     "input": [
      "#flux:\n",
      "SNO_fastn = 4.6e-6 #cm^-2 s^-1\n",
      "SNO_thermn = 4.8e-6 #cm^-2 s^-1\n",
      "CPL_n = 3e-5 #cm^-2 s^-1\n",
      "SUPL_fastn = 2.66e-6 #cm^-2 s^-1\n",
      "SUPL_thermn = 4.73e-6 #cm^-2 s^-1\n",
      "SUPL_total = SUPL_fastn + SUPL_thermn\n",
      "\n",
      "#Li-6 density\n",
      "CLYC_density = 3.31 #g/cm3\n",
      "CLYC_molmass = 2*133 + 6 + 89 + 6*35.45 #g/mol, assume 100% enriched in Li-6\n",
      "Atom_density = (CLYC_density/CLYC_molmass)*constants.Avogadro #UnitCells/cm3\n",
      "Li6_density = Atom_density #This is just the same; since there's 1 Li-6 nucleus per unit cell. \n",
      "CLYC_fastn_eff = 0.0015 #@ 3MeV, from http://permalink.lanl.gov/object/tr?what=info:lanl-repo/lareport/LA-UR-12-26565\n",
      "CLYC_therm_eff = 1 #3.2 mm thermal neut abs len http://ieeexplore.ieee.org/document/6164295/#full-text-section\n",
      "\n",
      "#Cross-section (assume all fast neutrons are thermalised)\n",
      "Li6_xsn = 940*1e-24 #cm^2\n",
      "\n",
      "#Reaction Rates:\n",
      "Unit_RR_therm = SUPL_thermn*Li6_density*Li6_xsn # cm^3 s^-1\n",
      "Crystal_radius = 1.5*2.54/2 #cm\n",
      "Crystal_length = 1.5*2.54 #cm\n",
      "RR_therm = Unit_RR_therm * constants.pi * Crystal_length * Crystal_radius**2\n",
      "\n",
      "#Infinite moderator:\n",
      "Unit_RR_tot = SUPL_total*Li6_density*Li6_xsn # cm^3 s^-1\n",
      "RR_tot = Unit_RR_tot * constants.pi * Crystal_length * Crystal_radius**2\n",
      "\n",
      "n_crystals = 1\n",
      "print(\"Expected CLYC Thermal Event Rate: {0} per second ({1} per day))\".format(n_crystals*RR_therm, n_crystals*RR_therm*3600*24))\n",
      "print(\"Expected CLYC Total Event Rate (infinite moderator): {0} per second ({1} per day))\".format(n_crystals*RR_tot, n_crystals*RR_tot*3600*24))"
     ],
     "language": "python",
     "metadata": {},
     "outputs": [
      {
       "output_type": "stream",
       "stream": "stdout",
       "text": [
        "Expected CLYC Thermal Event Rate: 0.000671039145884 per second (57.9777822044 per day))\n",
        "Expected CLYC Total Event Rate (infinite moderator): 0.00104840999748 per second (90.5826237823 per day))\n"
       ]
      }
     ],
     "prompt_number": 54
    },
    {
     "cell_type": "markdown",
     "metadata": {},
     "source": [
      "That seems low. Let's see if we can reconstruct the BF3 event rate with some guesstimations of the dimensions and detector parameters."
     ]
    },
    {
     "cell_type": "code",
     "collapsed": false,
     "input": [
      "#For BF3 detector (some parameters from this site: https://www.orau.org/ptp/collection/proportional%20counters/bf3info.htm)\n",
      "BF3_radius = 2.54/2 #cm (guessed from photo)\n",
      "BF3_length = 25 #cm (guessed from photo)\n",
      "#This density estimate assumes 1 atm, which may not be realistic.\n",
      "BF3_density = 3.077*1e-3 #g/cm3 (https://www.honeywell-bf3.com/?document=bf3-technical-information&download=1).\n",
      "BF3_mol_mass = 67.82 #g/mol\n",
      "BF3_atom_density = (BF3_density/BF3_mol_mass)*constants.Avogadro #molecules/cm3\n",
      "B10_atom_density = BF3_atom_density# Assume 100% enriched in B-10\n",
      "B10_xsn = 3848 * 1e-24 #cm^2 (from here: http://www.sciencedirect.com/science/article/pii/002955826090105X)\n",
      "BF3_Unit_RR = SUPL_thermn*B10_atom_density*B10_xsn\n",
      "BF3_volume = constants.pi*BF3_length*BF3_radius**2\n",
      "BF3_RR = BF3_volume*BF3_Unit_RR\n",
      "print(\"Expected BF3 Thermal Event Rate: {0} per second ({1} per day))\".format(BF3_RR, BF3_RR*3600*24))"
     ],
     "language": "python",
     "metadata": {},
     "outputs": [
      {
       "output_type": "stream",
       "stream": "stdout",
       "text": [
        "Expected BF3 Thermal Event Rate: 6.29961701833e-05 per second (5.44286910384 per day))\n"
       ]
      }
     ],
     "prompt_number": 34
    },
    {
     "cell_type": "markdown",
     "metadata": {},
     "source": [
      "Also way too low; the measurements saw an event rate of 2694/1710000 = 1.6 mHz = 136/day.\n",
      "\n",
      "On closer inspection of the slides, it seems the Melbourne guy just assumed 100% thermal detection efficiency (note under table on slide 16: \"Flux not corrected for the efficiency of the tubes ( 97% , error -5%)\") and divided the rate by the surface area. "
     ]
    },
    {
     "cell_type": "code",
     "collapsed": false,
     "input": [
      "#Melbourne calc:\n",
      "CLYC_SA = 2 * constants.pi * Crystal_radius**2 + 2* constants.pi * Crystal_radius * 2 * Crystal_length #cm^2 \n",
      "CLYC_nrate = SUPL_thermn*CLYC_SA\n",
      "BF3_SA = 2 * constants.pi * BF3_radius**2 + 2* constants.pi * BF3_radius * 2 * BF3_length #cm^2\n",
      "BF3_nrate = SUPL_thermn*BF3_SA # s^-1\n",
      "print(\"Expected CLYC thermal Event Rate: {0} per second ({1} per day))\".format(CLYC_nrate, CLYC_nrate*3600*24))\n",
      "print(\"Expected BF3 thermal Event Rate: {0} per second ({1} per day))\".format(BF3_nrate, BF3_nrate*3600*24))"
     ],
     "language": "python",
     "metadata": {},
     "outputs": [
      {
       "output_type": "stream",
       "stream": "stdout",
       "text": [
        "Expected CLYC thermal Event Rate: 0.00053926343463 per second (46.592360752 per day))\n",
        "Expected BF3 thermal Event Rate: 0.00193512065046 per second (167.1944242 per day))\n"
       ]
      }
     ],
     "prompt_number": 33
    },
    {
     "cell_type": "markdown",
     "metadata": {},
     "source": [
      "That looks more like the Melboure results (I'm probably overestimating the size of the detector)!\n",
      "\n",
      "Let's use ~10K events as a minimum threshold for acceptable statistics. If we assume an event rate of ~20 counts per day in CLYC..."
     ]
    },
    {
     "cell_type": "code",
     "collapsed": false,
     "input": [
      "rate = 90 - 58\n",
      "print(\"100K events would take {0} years and {1} days ({2} years)\".format(np.floor(10000/(rate*365)), 10000/rate % 365, 10000./(rate*365)))"
     ],
     "language": "python",
     "metadata": {},
     "outputs": [
      {
       "output_type": "stream",
       "stream": "stdout",
       "text": [
        "100K events would take 0.0 years and 312 days (0.856164383562 years)\n"
       ]
      }
     ],
     "prompt_number": 61
    },
    {
     "cell_type": "code",
     "collapsed": false,
     "input": [
      "import matplotlib.pyplot as plt\n",
      "%matplotlib inline\n",
      "R1 = 58\n",
      "R2 = 90-58\n",
      "t = np.linspace(0,1,1000)\n",
      "UR1 = np.sqrt(R1*t*365)\n",
      "UR2 = np.sqrt((R1 + R2)*t*365)\n",
      "fig = plt.figure()\n",
      "plt.plot(t, UR1/(R1*t*365), label='Thermal Neutrons')\n",
      "plt.plot(t, UR2/(R2*t*365), label='Fast Neutrons')\n",
      "plt.hlines(0.03,0,1)\n",
      "plt.xlabel('time (y)')\n",
      "plt.ylabel('relative uncertainty')\n"
     ],
     "language": "python",
     "metadata": {},
     "outputs": [
      {
       "metadata": {},
       "output_type": "pyout",
       "prompt_number": 88,
       "text": [
        "<matplotlib.text.Text at 0x7f528acc9f10>"
       ]
      },
      {
       "metadata": {},
       "output_type": "display_data",
       "png": "[encoded data removed]",
       "text": [
        "<matplotlib.figure.Figure at 0x7f528aba4c10>"
       ]
      }
     ],
     "prompt_number": 88
    },
    {
     "cell_type": "code",
     "collapsed": false,
     "input": [
      "#Time till 3%\n",
      "(np.sqrt(R1+R2)/(R2*(np.sqrt(1000)/1000)))**2"
     ],
     "language": "python",
     "metadata": {},
     "outputs": [
      {
       "metadata": {},
       "output_type": "pyout",
       "prompt_number": 98,
       "text": [
        "87.890625"
       ]
      }
     ],
     "prompt_number": 98
    },
    {
     "cell_type": "code",
     "collapsed": false,
     "input": [
      "#Macroscopic xsns:\n",
      "CLYCmacroXsn = Li6_density*Li6_xsn #cm\n",
      "print(\"CLYC macroscopic xsn = {0:.2f} cm^-1\".format(CLYCmacroXsn))\n",
      "print(\"CLYC attenuation length = {0:.2f} cm\".format(CLYCmacroXsn**-1))"
     ],
     "language": "python",
     "metadata": {},
     "outputs": [
      {
       "output_type": "stream",
       "stream": "stdout",
       "text": [
        "CLYC macroscopic xsn = 3.27 cm^-1\n",
        "CLYC attenuation length = 0.31 cm\n"
       ]
      }
     ],
     "prompt_number": 85
    },
    {
     "cell_type": "code",
     "collapsed": false,
     "input": [
      "(2694/1710000.)*3600*24"
     ],
     "language": "python",
     "metadata": {},
     "outputs": [
      {
       "metadata": {},
       "output_type": "pyout",
       "prompt_number": 59,
       "text": [
        "136.11789473684212"
       ]
      }
     ],
     "prompt_number": 59
    }
   ],
   "metadata": {}
  }
 ]
}