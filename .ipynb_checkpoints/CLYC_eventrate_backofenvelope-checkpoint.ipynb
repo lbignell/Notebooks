{
 "cells": [
  {
   "cell_type": "markdown",
   "metadata": {},
   "source": [
    "### Event rates in the CLYC detector, in SUPL."
   ]
  },
  {
   "cell_type": "code",
   "execution_count": 1,
   "metadata": {
    "collapsed": true
   },
   "outputs": [],
   "source": [
    "from scipy import constants\n",
    "import numpy as np"
   ]
  },
  {
   "cell_type": "code",
   "execution_count": 2,
   "metadata": {},
   "outputs": [
    {
     "name": "stdout",
     "output_type": "stream",
     "text": [
      "Expected CLYC Thermal Event Rate: 0.00019882641359520126 per second (17.17860213462539 per day))\n",
      "Expected CLYC Total Event Rate (infinite moderator): 0.0003106399992533905 per second (26.839295935492938 per day))\n"
     ]
    }
   ],
   "source": [
    "#flux:\n",
    "SNO_fastn = 4.6e-6 #cm^-2 s^-1\n",
    "SNO_thermn = 4.8e-6 #cm^-2 s^-1\n",
    "CPL_n = 3e-5 #cm^-2 s^-1\n",
    "SUPL_fastn = 2.66e-6 #cm^-2 s^-1\n",
    "SUPL_thermn = 4.73e-6 #cm^-2 s^-1\n",
    "SUPL_total = SUPL_fastn + SUPL_thermn\n",
    "\n",
    "#Li-6 density\n",
    "CLYC_density = 3.31 #g/cm3\n",
    "CLYC_molmass = 2*133 + 6 + 89 + 6*35.45 #g/mol, assume 100% enriched in Li-6\n",
    "Atom_density = (CLYC_density/CLYC_molmass)*constants.Avogadro #UnitCells/cm3\n",
    "Li6_density = Atom_density #This is just the same; since there's 1 Li-6 nucleus per unit cell. \n",
    "CLYC_fastn_eff = 0.0015 #@ 3MeV, from http://permalink.lanl.gov/object/tr?what=info:lanl-repo/lareport/LA-UR-12-26565\n",
    "CLYC_therm_eff = 1 #3.2 mm thermal neut abs len http://ieeexplore.ieee.org/document/6164295/#full-text-section\n",
    "\n",
    "#Cross-section (assume all fast neutrons are thermalised)\n",
    "Li6_xsn = 940*1e-24 #cm^2\n",
    "\n",
    "#Reaction Rates:\n",
    "Unit_RR_therm = SUPL_thermn*Li6_density*Li6_xsn # cm^3 s^-1\n",
    "Crystal_radius = 1.*2.54/2 #cm\n",
    "Crystal_length = 1.*2.54 #cm\n",
    "RR_therm = Unit_RR_therm * constants.pi * Crystal_length * Crystal_radius**2\n",
    "\n",
    "#Infinite moderator:\n",
    "Unit_RR_tot = SUPL_total*Li6_density*Li6_xsn # cm^3 s^-1\n",
    "RR_tot = Unit_RR_tot * constants.pi * Crystal_length * Crystal_radius**2\n",
    "\n",
    "n_crystals = 1\n",
    "print(\"Expected CLYC Thermal Event Rate: {0} per second ({1} per day))\".format(n_crystals*RR_therm, n_crystals*RR_therm*3600*24))\n",
    "print(\"Expected CLYC Total Event Rate (infinite moderator): {0} per second ({1} per day))\".format(n_crystals*RR_tot, n_crystals*RR_tot*3600*24))"
   ]
  },
  {
   "cell_type": "markdown",
   "metadata": {},
   "source": [
    "That seems low. Let's see if we can reconstruct the BF3 event rate with some guesstimations of the dimensions and detector parameters."
   ]
  },
  {
   "cell_type": "code",
   "execution_count": 3,
   "metadata": {},
   "outputs": [
    {
     "name": "stdout",
     "output_type": "stream",
     "text": [
      "Expected BF3 Thermal Event Rate: 6.299617018328038e-05 per second (5.4428691038354255 per day))\n"
     ]
    }
   ],
   "source": [
    "#For BF3 detector (some parameters from this site: https://www.orau.org/ptp/collection/proportional%20counters/bf3info.htm)\n",
    "BF3_radius = 2.54/2 #cm (guessed from photo)\n",
    "BF3_length = 25 #cm (guessed from photo)\n",
    "#This density estimate assumes 1 atm, which may not be realistic.\n",
    "BF3_density = 3.077*1e-3 #g/cm3 (https://www.honeywell-bf3.com/?document=bf3-technical-information&download=1).\n",
    "BF3_mol_mass = 67.82 #g/mol\n",
    "BF3_atom_density = (BF3_density/BF3_mol_mass)*constants.Avogadro #molecules/cm3\n",
    "B10_atom_density = BF3_atom_density# Assume 100% enriched in B-10\n",
    "B10_xsn = 3848 * 1e-24 #cm^2 (from here: http://www.sciencedirect.com/science/article/pii/002955826090105X)\n",
    "BF3_Unit_RR = SUPL_thermn*B10_atom_density*B10_xsn\n",
    "BF3_volume = constants.pi*BF3_length*BF3_radius**2\n",
    "BF3_RR = BF3_volume*BF3_Unit_RR\n",
    "print(\"Expected BF3 Thermal Event Rate: {0} per second ({1} per day))\".format(BF3_RR, BF3_RR*3600*24))"
   ]
  },
  {
   "cell_type": "markdown",
   "metadata": {},
   "source": [
    "Also way too low; the measurements saw an event rate of 2694/1710000 = 1.6 mHz = 136/day.\n",
    "\n",
    "On closer inspection of the slides, it seems the Melbourne guy just assumed 100% thermal detection efficiency (note under table on slide 16: \"Flux not corrected for the efficiency of the tubes ( 97% , error -5%)\") and divided the rate by the surface area. "
   ]
  },
  {
   "cell_type": "code",
   "execution_count": 4,
   "metadata": {},
   "outputs": [
    {
     "name": "stdout",
     "output_type": "stream",
     "text": [
      "Expected CLYC thermal Event Rate: 0.00023967263761311643 per second (20.70771588977326 per day))\n",
      "Expected BF3 thermal Event Rate: 0.0019351206504605476 per second (167.1944241997913 per day))\n"
     ]
    }
   ],
   "source": [
    "#Melbourne calc:\n",
    "CLYC_SA = 2 * constants.pi * Crystal_radius**2 + 2* constants.pi * Crystal_radius * 2 * Crystal_length #cm^2 \n",
    "CLYC_nrate = SUPL_thermn*CLYC_SA\n",
    "BF3_SA = 2 * constants.pi * BF3_radius**2 + 2* constants.pi * BF3_radius * 2 * BF3_length #cm^2\n",
    "BF3_nrate = SUPL_thermn*BF3_SA # s^-1\n",
    "print(\"Expected CLYC thermal Event Rate: {0} per second ({1} per day))\".format(CLYC_nrate, CLYC_nrate*3600*24))\n",
    "print(\"Expected BF3 thermal Event Rate: {0} per second ({1} per day))\".format(BF3_nrate, BF3_nrate*3600*24))"
   ]
  },
  {
   "cell_type": "markdown",
   "metadata": {},
   "source": [
    "That looks more like the Melboure results (I'm probably overestimating the size of the detector)!\n",
    "\n",
    "Let's use ~10K events as a minimum threshold for acceptable statistics. If we assume an event rate of ~20 counts per day in CLYC..."
   ]
  },
  {
   "cell_type": "code",
   "execution_count": 5,
   "metadata": {},
   "outputs": [
    {
     "name": "stdout",
     "output_type": "stream",
     "text": [
      "100K events would take 0.0 years and 312.5 days (0.8561643835616438 years)\n"
     ]
    }
   ],
   "source": [
    "rate = 90 - 58\n",
    "print(\"100K events would take {0} years and {1} days ({2} years)\".format(np.floor(10000/(rate*365)), 10000/rate % 365, 10000./(rate*365)))"
   ]
  },
  {
   "cell_type": "code",
   "execution_count": 6,
   "metadata": {},
   "outputs": [
    {
     "name": "stderr",
     "output_type": "stream",
     "text": [
      "/home/lbignell/anaconda3/lib/python3.5/site-packages/ipykernel_launcher.py:9: RuntimeWarning: invalid value encountered in true_divide\n",
      "  if __name__ == '__main__':\n",
      "/home/lbignell/anaconda3/lib/python3.5/site-packages/ipykernel_launcher.py:10: RuntimeWarning: invalid value encountered in true_divide\n",
      "  # Remove the CWD from sys.path while we load stuff.\n"
     ]
    },
    {
     "data": {
      "text/plain": [
       "<matplotlib.text.Text at 0x7f5060b8c320>"
      ]
     },
     "execution_count": 6,
     "metadata": {},
     "output_type": "execute_result"
    },
    {
     "data": {
      "image/png": "[encoded data removed]",
      "text/plain": [
       "<matplotlib.figure.Figure at 0x7f50638e0dd8>"
      ]
     },
     "metadata": {},
     "output_type": "display_data"
    }
   ],
   "source": [
    "import matplotlib.pyplot as plt\n",
    "%matplotlib inline\n",
    "R1 = 58\n",
    "R2 = 90-58\n",
    "t = np.linspace(0,1,1000)\n",
    "UR1 = np.sqrt(R1*t*365)\n",
    "UR2 = np.sqrt((R1 + R2)*t*365)\n",
    "fig = plt.figure()\n",
    "plt.plot(t, UR1/(R1*t*365), label='Thermal Neutrons')\n",
    "plt.plot(t, UR2/(R2*t*365), label='Fast Neutrons')\n",
    "plt.hlines(0.03,0,1)\n",
    "plt.xlabel('time (y)')\n",
    "plt.ylabel('relative uncertainty')\n"
   ]
  },
  {
   "cell_type": "code",
   "execution_count": 7,
   "metadata": {},
   "outputs": [
    {
     "data": {
      "text/plain": [
       "87.890625"
      ]
     },
     "execution_count": 7,
     "metadata": {},
     "output_type": "execute_result"
    }
   ],
   "source": [
    "#Time till 3%\n",
    "(np.sqrt(R1+R2)/(R2*(np.sqrt(1000)/1000)))**2"
   ]
  },
  {
   "cell_type": "code",
   "execution_count": 8,
   "metadata": {},
   "outputs": [
    {
     "name": "stdout",
     "output_type": "stream",
     "text": [
      "CLYC macroscopic xsn = 3.27 cm^-1\n",
      "CLYC attenuation length = 0.31 cm\n"
     ]
    }
   ],
   "source": [
    "#Macroscopic xsns:\n",
    "CLYCmacroXsn = Li6_density*Li6_xsn #cm\n",
    "print(\"CLYC macroscopic xsn = {0:.2f} cm^-1\".format(CLYCmacroXsn))\n",
    "print(\"CLYC attenuation length = {0:.2f} cm\".format(CLYCmacroXsn**-1))"
   ]
  },
  {
   "cell_type": "code",
   "execution_count": 9,
   "metadata": {},
   "outputs": [
    {
     "data": {
      "text/plain": [
       "136.11789473684212"
      ]
     },
     "execution_count": 9,
     "metadata": {},
     "output_type": "execute_result"
    }
   ],
   "source": [
    "(2694/1710000.)*3600*24"
   ]
  },
  {
   "cell_type": "code",
   "execution_count": 10,
   "metadata": {},
   "outputs": [
    {
     "name": "stdout",
     "output_type": "stream",
     "text": [
      "Expected He-3 Thermal Event Rate: 0.0025636818303467015 per second (221.502110141955 per day))\n"
     ]
    }
   ],
   "source": [
    "#He-3 calculation:\n",
    "He3_radius = 5.08 #cm, detector radius.\n",
    "He3_density = 0.164*10/1e3 #g/cm^3. Detector is at 10 atm, so I just assumed ideal gas and scaled.\n",
    "He3_mol_mass = 4 #g/mol\n",
    "He3_atom_density = (He3_density/He3_mol_mass)*constants.Avogadro #molecules/cm3\n",
    "He3_xsn = 5330*1e-24 #barns, source:http://web.mit.edu/8.13/www/JLExperiments/38/tgm-neutron-detectors.pdf\n",
    "He3_Unit_RR = SUPL_thermn*He3_atom_density*He3_xsn\n",
    "He3_volume = constants.pi*(He3_radius**3)\n",
    "He3_RR = He3_volume*He3_Unit_RR\n",
    "print(\"Expected He-3 Thermal Event Rate: {0} per second ({1} per day))\".format(He3_RR, He3_RR*3600*24))"
   ]
  }
 ],
 "metadata": {
  "kernelspec": {
   "display_name": "Python 3",
   "language": "python",
   "name": "python3"
  },
  "language_info": {
   "codemirror_mode": {
    "name": "ipython",
    "version": 3
   },
   "file_extension": ".py",
   "mimetype": "text/x-python",
   "name": "python",
   "nbconvert_exporter": "python",
   "pygments_lexer": "ipython3",
   "version": "3.5.3"
  }
 },
 "nbformat": 4,
 "nbformat_minor": 1
}
