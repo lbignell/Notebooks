{
 "cells": [
  {
   "cell_type": "markdown",
   "metadata": {},
   "source": [
    "### Elastic Scattering\n",
    "\n",
    "These are notes to remind myself about elastic scattring theory. I'll also make a script that I can use for quick calculations.\n",
    "I'm following along with these notes: http://web.mit.edu/22.54/ClassNotes/22_111_VII.pdf"
   ]
  },
  {
   "cell_type": "markdown",
   "metadata": {},
   "source": [
    "Consider the reaction:\n",
    "\n",
    "<img src=\"ES_kinematics.jpeg\">\n",
    "\n",
    "Where there is some incident particle on a stationary target. Actually, this isn't quite what we want, so let's pretend that the exiting $\\chi$ particle may have changed to a different particle, $\\chi'$ with mass $m_{\\chi}'$, and give a similar treatment to the recoiling target.\n",
    "\n",
    "Assuming an elastic collision, conservation of energy says:\n",
    "\n",
    "$E_{\\chi} = E_{\\chi}' + E_{T}'$\n",
    "\n",
    "From conservation of momentum the recoiling target momentum can be written as:\n",
    "\n",
    "$\\vec{p}_{T}' = \\vec{p}_{\\chi} - \\vec{p}_{\\chi}'$\n",
    "\n",
    "Squaring and expanding the RHS:\n",
    "\n",
    "$p_{T}'^{2} = p_{\\chi}^2 + p_{\\chi}'^2 - 2p_{\\chi}p_{\\chi}'\\cos\\theta'$\n",
    "\n",
    "But $p_{T}'^{2} = 2 m_{T} E_{T'}$\n",
    "\n",
    "The Q-value is just given by:\n",
    "\n",
    "$Q = E_{\\chi}' + E_{T}' - E_{\\chi}$\n",
    "\n",
    "Apparently, it can be shown (though the working isn't clear to me on the linked notes):\n",
    "\n",
    "$Q = E_{\\chi}' \\left(1 + \\frac{m_{\\chi}'}{m_{T}}\\right) - E_{\\chi}\\left(1 - \\frac{m_{\\chi}}{m_{T}}\\right) - \\frac{2}{m_{T}}\\left(m_{\\chi}m_{\\chi}'E_{\\chi}E_{\\chi'}\\right)^{1/2}\\cos\\theta'$\n",
    "\n",
    "*Elastic Scattering:*\n",
    "\n",
    "Elastic scattering just means $Q = 0$, $m_{\\chi}' = m_{\\chi}$, and $m_{T}' = m_{T}$.\n",
    "\n",
    "So we get:\n",
    "\n",
    "$E_{\\chi}'\\left(1 + \\frac{m_{\\chi}}{m_{T}}\\right) - E_{\\chi}\\left(1 - \\frac{m_{\\chi}}{m_{T}}\\right) - \\frac{2m_{\\chi}}{m_{T}}\\left(E_{\\chi}E_{\\chi}'\\right)^{1/2}\\cos\\theta' = 0$\n",
    "\n",
    "We can solve this equation for a given incident particle energy to get scattered energy as a function of angle (the recoil energy is just the difference).\n",
    "\n",
    "Solving for $E_{\\chi}'$:\n",
    "\n",
    "$E_{\\chi}'^{1/2} = \\frac{\\frac{m_{\\chi}}{m_{T}}E_{\\chi}^{1/2}}{\\left(1 + \\frac{m_{\\chi}}{m_{T}}\\right)} \\left[ \\cos\\theta' \\pm \\sqrt{ \\left(\\cos\\theta'\\right)^{2} + 1 - \\frac{m_{T}^{2}}{m_{\\chi}^{2}} } ~\\right]$\n",
    "\n",
    "The above doesn't seem right (why are some scattering angles not permitted?). Better notes are here: http://farside.ph.utexas.edu/teaching/336k/Newtonhtml/node52.html.\n",
    "It's easier to work in the centre of mass frame (subtract $\\vec{v}_{CM} = \\frac{m_{\\chi}}{m_{\\chi} + m_{T}} \\vec{v}_{\\chi}$ from the incident and target particles).\n",
    "\n",
    "It's pretty easy to show (I did it on paper) that the magnitude of the outgoing velocity in the lab frame is:\n",
    "\n",
    "$\\vec{v}_{\\chi}'^{2} = \\vec{v}_{\\chi}^{2} \\frac{m_{\\chi}^{2} + m_{T}^{2} + 2m_{\\chi}m_{T}\\cos\\theta_{CM}}{\\left(m_{\\chi} + m_{T}\\right)^{2}}$\n",
    "\n",
    "It's not as easy (for me) to show that the centre of mass angle ($\\theta_{cm}$) is related to the lab angle by:\n",
    "\n",
    "$\\tan\\theta = \\frac{\\sin\\theta_{CM}}{\\cos\\theta_{CM} + \\frac{m_{\\chi}}{m_{T}}}$\n",
    "\n",
    "Oh, duh. If the masses are equal, then the biggest scattering angle possible is 90 degrees from conservation of momentum. Anything else is a stopped billiard ball. So the original equation is probably correct."
   ]
  },
  {
   "cell_type": "code",
   "execution_count": 2,
   "metadata": {},
   "outputs": [],
   "source": [
    "import numpy as np\n",
    "import matplotlib.pyplot as plt\n",
    "%matplotlib inline\n",
    "from scipy import constants, integrate"
   ]
  },
  {
   "cell_type": "code",
   "execution_count": 3,
   "metadata": {},
   "outputs": [],
   "source": [
    "def CM_to_Lab_angle(theta_cm, m_incident, m_target):\n",
    "    return np.arctan((np.sin(theta_cm))/(np.cos(theta_cm) + (m_incident/m_target)))\n",
    "\n",
    "def OutgoingEnergy(theta_cm, m_incident, m_target, E_incident):\n",
    "    v_incident_sq = 2*E_incident/m_incident\n",
    "    v_out_sq = v_incident_sq*(m_incident**2 + m_target**2 + 2*m_incident*m_target*np.cos(theta_cm))/\\\n",
    "                ((m_incident + m_target)**2)\n",
    "    return v_out_sq*m_incident*0.5"
   ]
  },
  {
   "cell_type": "code",
   "execution_count": 4,
   "metadata": {},
   "outputs": [
    {
     "data": {
      "text/plain": [
       "<matplotlib.text.Text at 0x7f4fc22f9cf8>"
      ]
     },
     "execution_count": 4,
     "metadata": {},
     "output_type": "execute_result"
    },
    {
     "data": {
      "image/png": "[encoded data removed]",
      "text/plain": [
       "<matplotlib.figure.Figure at 0x7f4f738440f0>"
      ]
     },
     "metadata": {},
     "output_type": "display_data"
    }
   ],
   "source": [
    "#Let's try it out:\n",
    "m_incident = 939.57 #GeV/c^2 (neutron)\n",
    "m_target = 938.28 #GeV/c^2 (proton)\n",
    "E_incident = 8.34 #MeV\n",
    "theta_cm = np.linspace(0, np.pi-0.1, 100)\n",
    "plt.plot(CM_to_Lab_angle(theta_cm, m_incident, m_target), OutgoingEnergy(theta_cm, m_incident, m_target, E_incident))\n",
    "plt.xlabel('Scattering Angle (radians)')\n",
    "plt.ylabel('Neutron Energy (MeV)')"
   ]
  },
  {
   "cell_type": "markdown",
   "metadata": {},
   "source": [
    "That looks reasonable."
   ]
  },
  {
   "cell_type": "code",
   "execution_count": 45,
   "metadata": {},
   "outputs": [
    {
     "name": "stdout",
     "output_type": "stream",
     "text": [
      "For incident particles of 0.72 MeV, scattering from the target at 45.0 degrees, the outgoing energy is 0.359505043269 MeV\n"
     ]
    }
   ],
   "source": [
    "#Let's go the other way numerically because I don't want to do algebra.\n",
    "LabAngle = np.pi/4 #radians\n",
    "ScatteredEnergy = np.interp(LabAngle, CM_to_Lab_angle(theta_cm,m_incident,m_target), \n",
    "                            OutgoingEnergy(theta_cm,m_incident,m_target,E_incident))\n",
    "print(\"For incident particles of {0} MeV, scattering from the target at {1} degrees, the outgoing energy is {2} MeV\".\\\n",
    "      format(E_incident, (360/(2*np.pi))*LabAngle, ScatteredEnergy))"
   ]
  },
  {
   "cell_type": "markdown",
   "metadata": {},
   "source": [
    "Alternate formulation (from here: http://www.physics.brocku.ca/fun/NEWT3D/PDF/MOMENT3D.PDF):"
   ]
  },
  {
   "cell_type": "code",
   "execution_count": null,
   "metadata": {},
   "outputs": [],
   "source": [
    "def GetLabAngle(E_incident, m_incident, m_target, E_scattered):\n",
    "    alpha = m_incident/m_target\n",
    "    beta = np.sqrt(E_scattered/E_incident)\n",
    "    return np.arccos(((1+alpha)*beta**2 + 1 - alpha)/(2*beta))"
   ]
  },
  {
   "cell_type": "code",
   "execution_count": 1,
   "metadata": {},
   "outputs": [],
   "source": [
    "#I think this one is wrong?\n",
    "def CM_to_Lab_angle(theta_cm, m_incident, m_target):\n",
    "    return np.arctan((np.sin(theta_cm))/(np.cos(theta_cm) + (m_incident/m_target)))\n"
   ]
  },
  {
   "cell_type": "code",
   "execution_count": 7,
   "metadata": {},
   "outputs": [],
   "source": [
    "#A function to check I'm not screwing up the polar integration.\n",
    "def circle(theta, radius=1):\n",
    "    return radius\n",
    "\n",
    "def testpolarint(testangle=constants.pi/2):\n",
    "    print(\"Let's integrate a unit circle\")\n",
    "    testintegrand = lambda x: 0.5*circle(x)**2\n",
    "    testintpi = integrate.quad(testintegrand, 0, constants.pi)\n",
    "    print(\"Integral from 0 to pi : {0} (pi/{1})\".format(testintpi[0], constants.pi/testintpi[0]))\n",
    "    testint = integrate.quad(testintegrand, 0, testangle)\n",
    "    print(\"Integral from 0 to {0} : {1} (pi/{2})\".format(testangle, testint[0], constants.pi/testint[0]))\n",
    "    print(\"Ratio of second to first integral = {0}\".format(testint[0]/testintpi[0]))\n",
    "    return"
   ]
  },
  {
   "cell_type": "code",
   "execution_count": 8,
   "metadata": {},
   "outputs": [
    {
     "name": "stdout",
     "output_type": "stream",
     "text": [
      "Let's integrate a unit circle\n",
      "Integral from 0 to pi : 1.57079632679 (pi/2.0)\n",
      "Integral from 0 to 0.314159265359 : 0.157079632679 (pi/20.0)\n",
      "Ratio of second to first integral = 0.1\n"
     ]
    }
   ],
   "source": [
    "testpolarint(testangle=constants.pi/10)"
   ]
  }
 ],
 "metadata": {
  "kernelspec": {
   "display_name": "Python 3",
   "language": "python",
   "name": "python3"
  },
  "language_info": {
   "codemirror_mode": {
    "name": "ipython",
    "version": 3
   },
   "file_extension": ".py",
   "mimetype": "text/x-python",
   "name": "python",
   "nbconvert_exporter": "python",
   "pygments_lexer": "ipython3",
   "version": "3.5.3"
  }
 },
 "nbformat": 4,
 "nbformat_minor": 1
}
